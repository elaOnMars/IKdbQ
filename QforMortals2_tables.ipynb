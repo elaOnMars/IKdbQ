{
 "cells": [
  {
   "cell_type": "markdown",
   "metadata": {},
   "source": [
    "# Tables\n",
    "---\n",
    "###Overview\n",
    "---\n",
    "Tables form the basis for kdb+. A table is a collection of named columns implemented as a dictionary. Consequently, q tables are column-oriented, in contrast to row-oriented tables in relational databases. Moreover, a column's values in q comprise an ordered list; this contrasts to SQL, in which the order of rows is undefined. The fact that q tables comprise ordered column lists makes kdb+ very efficient at storing, retrieving and manipulating sequenced data. One important example is data that arrives in time sequence.\n",
    "\n",
    "Kdb+ handles relational and time series data in the unified environment of q tables. There is no separate data definition language, no separate stored procedure language and no need to map internal representations to a separate form for persistence. Just q tables, expressions and functions.\n",
    "\n",
    "Tables are built from dictionaries, so it behooves the cursory reader to review Dictionaries before proceeding."
   ]
  },
  {
   "cell_type": "markdown",
   "metadata": {},
   "source": [
    "###Table Definition \n",
    "---\n",
    "####Table is the flip of Column Dictionary\n",
    "You undoubtedly realized at the end of Dictionaries that a table is implemented as a column dictionary that has been flipped (i.e., transposed). The **only** effect of flipping the column dictionary is to reverse the order of its indices; no data is rearranged under the covers.  \n",
    "\n",
    "<img style=\"float:left\" src=\"http://code.kx.com/mediawiki/images/c/cb/Warning.png\"> **Note**: All tables have type 98h.\n",
    "\n",
    "For example,"
   ]
  },
  {
   "cell_type": "code",
   "execution_count": 0,
   "metadata": {
    "collapsed": false
   },
   "outputs": [
    {
     "data": {
      "text/plain": [
       "98 42 126\n"
      ]
     },
     "metadata": {},
     "output_type": "display_data"
    }
   ],
   "source": [
    "d:`name`iq!(`Dent`Beeblebrox`Prefect;98 42 126)\n",
    "d[`iq;]"
   ]
  },
  {
   "cell_type": "code",
   "execution_count": 1,
   "metadata": {
    "collapsed": false
   },
   "outputs": [
    {
     "data": {
      "text/plain": [
       "name| `Prefect\n",
       "iq  | 126\n"
      ]
     },
     "metadata": {},
     "output_type": "display_data"
    }
   ],
   "source": [
    "d[;2]"
   ]
  },
  {
   "cell_type": "code",
   "execution_count": 2,
   "metadata": {
    "collapsed": false
   },
   "outputs": [
    {
     "data": {
      "text/plain": [
       "126\n"
      ]
     },
     "metadata": {},
     "output_type": "display_data"
    }
   ],
   "source": [
    "d[`iq; 2]"
   ]
  },
  {
   "cell_type": "code",
   "execution_count": 3,
   "metadata": {
    "collapsed": false
   },
   "outputs": [
    {
     "data": {
      "text/plain": [
       "98 42 126\n"
      ]
     },
     "metadata": {},
     "output_type": "display_data"
    }
   ],
   "source": [
    "t: flip `name`iq!(`Dent`Beeblebrox`Prefect;98 42 126)\n",
    "t[;`iq]"
   ]
  },
  {
   "cell_type": "code",
   "execution_count": 4,
   "metadata": {
    "collapsed": false
   },
   "outputs": [
    {
     "data": {
      "text/plain": [
       "name| `Prefect\n",
       "iq  | 126\n"
      ]
     },
     "metadata": {},
     "output_type": "display_data"
    }
   ],
   "source": [
    "t[2;]"
   ]
  },
  {
   "cell_type": "code",
   "execution_count": 5,
   "metadata": {
    "collapsed": false
   },
   "outputs": [
    {
     "data": {
      "text/plain": [
       "126\n"
      ]
     },
     "metadata": {},
     "output_type": "display_data"
    }
   ],
   "source": [
    "t[2;`iq]"
   ]
  },
  {
   "cell_type": "markdown",
   "metadata": {},
   "source": [
    "To access items in a table t created by flipping a column dictionary d, simply reverse the order of the arguments in the projections of d. We also reverse the roles of i and j compared to dictionaries to make things more natural from the table perspective.\n",
    "\n",
    "  * t[i;] / row i is dictionary mapping column names to values\n",
    "  * t[i] / i<sup>th</sup> element of list t...same as previous\n",
    "  * t[;c<sub>j</sub>] / vector of column values for column c<sub>j</sub>\n",
    "\n",
    "This validates the implementation of a table as a flipped column dictionary. Retrieving rows and columns conforms to conventional matrix notation in which the first index denotes the row and the second index the column."
   ]
  },
  {
   "cell_type": "markdown",
   "metadata": {},
   "source": [
    "#### Table Display\n",
    "Observe that rows and columns of a table display are indeed the transpose of the dictionary display, even though the internal data layout is the same."
   ]
  },
  {
   "cell_type": "code",
   "execution_count": 6,
   "metadata": {
    "collapsed": false
   },
   "outputs": [
    {
     "data": {
      "text/plain": [
       "name| Dent Beeblebrox Prefect\n",
       "iq  | 98   42         126    \n"
      ]
     },
     "metadata": {},
     "output_type": "display_data"
    }
   ],
   "source": [
    "d"
   ]
  },
  {
   "cell_type": "code",
   "execution_count": 7,
   "metadata": {
    "collapsed": false
   },
   "outputs": [
    {
     "data": {
      "text/plain": [
       "name       iq \n",
       "--------------\n",
       "Dent       98 \n",
       "Beeblebrox 42 \n",
       "Prefect    126\n"
      ]
     },
     "metadata": {},
     "output_type": "display_data"
    }
   ],
   "source": [
    "t"
   ]
  }
 ],
 "metadata": {
  "kernelspec": {
   "display_name": "KDB+/Q",
   "language": "q",
   "name": "q"
  },
  "language_info": {
   "file_extension": "q",
   "name": "q",
   "version": "2.7.3"
  }
 },
 "nbformat": 4,
 "nbformat_minor": 0
}
